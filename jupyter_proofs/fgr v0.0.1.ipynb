{
 "cells": [
  {
   "cell_type": "markdown",
   "metadata": {},
   "source": [
    "# fgr v0.0.1\n",
    "\n",
    "The plan is to create support for the following charts in matplotlib and d3:\n",
    "\n",
    "1. Histograms  \n",
    "  1. Bar Chart\n",
    "  2. Stacked Bar Chart\n",
    "\n",
    "2. Line graphs\n",
    "3. Heat maps\n",
    "\n",
    "This notebook will serve as sketch pad for constructing/designing the API that I envision for this library."
   ]
  },
  {
   "cell_type": "code",
   "execution_count": 52,
   "metadata": {},
   "outputs": [],
   "source": [
    "# Loading in dependencies and data\n",
    "# Going to limit the scope of this as much as possible\n",
    "import pandas as pd\n",
    "import matplotlib.pyplot as plt\n",
    "\n",
    "df = pd.read_csv(\"../data_sources/clean_train.csv\", index_col=0)\n",
    "histogram_data = df[[\"Overall Qual\",\"Overall Cond\", \"SalePrice\",\"Year Built\",\"Year Remod/Add\", \"Yr Sold\"]] "
   ]
  },
  {
   "cell_type": "markdown",
   "metadata": {},
   "source": [
    "## 1. Histograms\n",
    "\n",
    "### A. Bar Chart\n",
    "\n",
    "Bar charts will require: \n",
    "\n",
    "- **data**: data source location; only csv for now\n",
    "- **y_axis**: numerical data for the bar y size\n",
    "- **x_axis**: either discrete numerical or categorical data (time) for the x.\n",
    "- **agg**: sum form of aggregation ('sum', 'min', 'max', 'std', 'prod','var')\n",
    "\n",
    "Ideally, we would have the following configuration:\n",
    "\n",
    "```yaml\n",
    "# bar_chart.yaml\n",
    "data: \"./clean_train.csv\"\n",
    "y_axis: \"SalePrice\"\n",
    "x_axis: \"Year Built\"\n",
    "agg: sum\n",
    "```\n",
    "\n",
    "And then run the following command:\n",
    "\n",
    "```bash\n",
    "$ fgr chart bar_chart.yaml\n",
    "```\n",
    "\n"
   ]
  },
  {
   "cell_type": "markdown",
   "metadata": {},
   "source": [
    "Assuming a small chunk of the data looked like this:"
   ]
  },
  {
   "cell_type": "code",
   "execution_count": 53,
   "metadata": {},
   "outputs": [
    {
     "data": {
      "text/html": [
       "<div>\n",
       "<style scoped>\n",
       "    .dataframe tbody tr th:only-of-type {\n",
       "        vertical-align: middle;\n",
       "    }\n",
       "\n",
       "    .dataframe tbody tr th {\n",
       "        vertical-align: top;\n",
       "    }\n",
       "\n",
       "    .dataframe thead th {\n",
       "        text-align: right;\n",
       "    }\n",
       "</style>\n",
       "<table border=\"1\" class=\"dataframe\">\n",
       "  <thead>\n",
       "    <tr style=\"text-align: right;\">\n",
       "      <th></th>\n",
       "      <th>SalePrice</th>\n",
       "      <th>Year Built</th>\n",
       "    </tr>\n",
       "  </thead>\n",
       "  <tbody>\n",
       "    <tr>\n",
       "      <th>0</th>\n",
       "      <td>130500</td>\n",
       "      <td>1976</td>\n",
       "    </tr>\n",
       "    <tr>\n",
       "      <th>1</th>\n",
       "      <td>220000</td>\n",
       "      <td>1996</td>\n",
       "    </tr>\n",
       "    <tr>\n",
       "      <th>2</th>\n",
       "      <td>109000</td>\n",
       "      <td>1953</td>\n",
       "    </tr>\n",
       "    <tr>\n",
       "      <th>3</th>\n",
       "      <td>174000</td>\n",
       "      <td>2006</td>\n",
       "    </tr>\n",
       "    <tr>\n",
       "      <th>4</th>\n",
       "      <td>138500</td>\n",
       "      <td>1900</td>\n",
       "    </tr>\n",
       "  </tbody>\n",
       "</table>\n",
       "</div>"
      ],
      "text/plain": [
       "   SalePrice  Year Built\n",
       "0     130500        1976\n",
       "1     220000        1996\n",
       "2     109000        1953\n",
       "3     174000        2006\n",
       "4     138500        1900"
      ]
     },
     "execution_count": 53,
     "metadata": {},
     "output_type": "execute_result"
    }
   ],
   "source": [
    "histogram_data[['SalePrice','Year Built']].head()"
   ]
  },
  {
   "cell_type": "markdown",
   "metadata": {},
   "source": [
    "We can produce the following chart:"
   ]
  },
  {
   "cell_type": "code",
   "execution_count": 54,
   "metadata": {
    "scrolled": false
   },
   "outputs": [
    {
     "data": {
      "text/plain": [
       "<matplotlib.axes._subplots.AxesSubplot at 0x207bdad4b38>"
      ]
     },
     "execution_count": 54,
     "metadata": {},
     "output_type": "execute_result"
    },
    {
     "data": {
      "image/png": "[encoded data removed]",
      "text/plain": [
       "<Figure size 1440x720 with 1 Axes>"
      ]
     },
     "metadata": {
      "needs_background": "light"
     },
     "output_type": "display_data"
    }
   ],
   "source": [
    "histogram_data.groupby(\"Year Built\")['SalePrice'].aggregate(\"sum\").plot(kind=\"bar\", figsize=(20,10))"
   ]
  },
  {
   "cell_type": "code",
   "execution_count": null,
   "metadata": {},
   "outputs": [],
   "source": []
  }
 ],
 "metadata": {
  "kernelspec": {
   "display_name": "Python 3",
   "language": "python",
   "name": "python3"
  },
  "language_info": {
   "codemirror_mode": {
    "name": "ipython",
    "version": 3
   },
   "file_extension": ".py",
   "mimetype": "text/x-python",
   "name": "python",
   "nbconvert_exporter": "python",
   "pygments_lexer": "ipython3",
   "version": "3.6.5"
  }
 },
 "nbformat": 4,
 "nbformat_minor": 2
}
